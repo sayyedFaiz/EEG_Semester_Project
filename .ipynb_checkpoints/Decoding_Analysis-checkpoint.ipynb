{
 "cells": [
  {
   "cell_type": "code",
   "execution_count": null,
   "id": "0867021a",
   "metadata": {},
   "outputs": [],
   "source": [
    "import numpy as np\n",
    "import scipy\n",
    "import sys\n",
    "sys.path.insert(0,\"../exercises\")\n",
    "import matplotlib\n",
    "import matplotlib.pylab as pl\n",
    "from matplotlib import pyplot as plt\n",
    "import sklearn.pipeline\n",
    "import sklearn\n",
    "import sklearn.model_selection\n",
    "from sklearn.discriminant_analysis import LinearDiscriminantAnalysis\n",
    "from preprocess import Preprocess \n",
    "from sklearn.linear_model import LogisticRegression\n",
    "from sklearn.pipeline import make_pipeline\n",
    "from mne.decoding import (SlidingEstimator, GeneralizingEstimator, Scaler,\n",
    "                          cross_val_multiscore, LinearModel, get_coef,\n",
    "                          Vectorizer, CSP)\n",
    "import mne.decoding\n",
    "\n",
    "import ccs_eeg_utils"
   ]
  },
  {
   "cell_type": "code",
   "execution_count": null,
   "id": "eb7648a0",
   "metadata": {},
   "outputs": [],
   "source": [
    "subjectId = '001'"
   ]
  },
  {
   "cell_type": "code",
   "execution_count": null,
   "id": "9321bd00",
   "metadata": {},
   "outputs": [],
   "source": [
    "s1 = Preprocess(subjectId)"
   ]
  },
  {
   "cell_type": "code",
   "execution_count": null,
   "id": "e07313aa",
   "metadata": {},
   "outputs": [],
   "source": [
    "s1.loadData()"
   ]
  },
  {
   "cell_type": "code",
   "execution_count": null,
   "id": "5c55b6b5",
   "metadata": {},
   "outputs": [],
   "source": [
    "s1.raw.set_channel_types({'HEOG_left': 'eog', 'HEOG_right': 'eog', 'VEOG_lower': 'eog'})\n",
    "s1.raw.set_montage('standard_1020', match_case=False)"
   ]
  },
  {
   "cell_type": "markdown",
   "id": "f9988dc8",
   "metadata": {},
   "source": [
    "Most parts were taken from the exercises of the lectures, or from the MNE tutorial page: `https://mne.tools/stable/auto_tutorials/machine-learning/50_decoding.html`"
   ]
  },
  {
   "cell_type": "code",
   "execution_count": null,
   "id": "bb0198c7",
   "metadata": {},
   "outputs": [],
   "source": [
    "evts,evts_dict = mne.events_from_annotations(s1.raw)\n",
    "wanted_keys = [e for e in evts_dict.keys() if \"stimulus\" in e]\n",
    "evts_dict_stim=dict((k, evts_dict[k]) for k in wanted_keys if k in evts_dict)"
   ]
  },
  {
   "cell_type": "code",
   "execution_count": null,
   "id": "0d0d77fa",
   "metadata": {},
   "outputs": [],
   "source": [
    "epochs = mne.Epochs(s1.raw,evts,evts_dict_stim,tmin=-0.1,tmax=1,preload=True)"
   ]
  },
  {
   "cell_type": "code",
   "execution_count": null,
   "id": "dd27770d",
   "metadata": {},
   "outputs": [],
   "source": [
    "epochs"
   ]
  },
  {
   "cell_type": "code",
   "execution_count": null,
   "id": "3a1d424a",
   "metadata": {},
   "outputs": [],
   "source": [
    "epochs.load_data()\n",
    "epochs_train = epochs.copy().crop(tmin=0.2, tmax=0.8)\n",
    "\n",
    "data = epochs_train.get_data(picks=['P3', 'P4']).mean(axis=2)\n",
    "labels = epochs.events[:, -1]\n",
    "print(labels)"
   ]
  },
  {
   "cell_type": "code",
   "execution_count": null,
   "id": "38d4aa91",
   "metadata": {},
   "outputs": [],
   "source": [
    "csp = mne.decoding.CSP(n_components=2)\n",
    "csp.fit_transform(epochs.get_data(), labels)\n",
    "csp_data = csp.transform(epochs.get_data())\n",
    "csp_data.shape\n",
    "\n",
    "lda = LinearDiscriminantAnalysis()\n",
    "flattenData = csp_data.reshape(csp_data.shape[0],-1)\n",
    "lda.fit(data,labels)\n",
    "lda.score(data,labels)\n",
    "classifier = sklearn.pipeline.Pipeline([('vector',mne.decoding.Vectorizer()),('LDA', lda)])"
   ]
  },
  {
   "cell_type": "code",
   "execution_count": null,
   "id": "55dbc921",
   "metadata": {},
   "outputs": [],
   "source": [
    "labels = epochs.events[:,-1]\n",
    "csp = mne.decoding.CSP(n_components=2)\n",
    "csp.fit_transform(epochs.get_data(), labels)\n",
    "csp.plot_patterns(epochs.info);\n",
    "csp.plot_filters(epochs.info);"
   ]
  },
  {
   "cell_type": "code",
   "execution_count": null,
   "id": "466d9997",
   "metadata": {},
   "outputs": [],
   "source": [
    "evts_decoding = evts.copy()\n",
    "for e in evts_decoding:\n",
    "    if e[2] in [11, 22, 33, 44, 55]: \n",
    "        e[2] = 0\n",
    "    else:\n",
    "        e[2] = 1\n",
    "evts_dict_dec = {'target': 0,'distractor': 1}"
   ]
  },
  {
   "cell_type": "code",
   "execution_count": null,
   "id": "a5b6054f",
   "metadata": {},
   "outputs": [],
   "source": [
    "epochs_dec = mne.Epochs(s1.raw, evts_decoding, evts_dict_dec, -0.2, 0.5, proj=True,\n",
    "                   picks=('Pz','Cz'), baseline=(None, 0.), preload=True, decim=3,\n",
    "                   verbose='error')"
   ]
  },
  {
   "cell_type": "code",
   "execution_count": null,
   "id": "155655f2",
   "metadata": {},
   "outputs": [],
   "source": [
    "X = epochs_dec.get_data()  \n",
    "y = epochs_dec.events[:, 2] #target\n",
    "\n",
    "clf = make_pipeline(\n",
    "    Scaler(epochs_dec.info),\n",
    "    Vectorizer(),\n",
    "    LogisticRegression(solver='liblinear')\n",
    ")\n",
    "\n",
    "scores = cross_val_multiscore(clf, X, y, cv=12, n_jobs=4)\n",
    "\n",
    "# Mean scores across cross-validation splits\n",
    "score = np.mean(scores, axis=0)\n",
    "print('Spatio-temporal: %0.1f%%' % (100 * score,))"
   ]
  },
  {
   "cell_type": "code",
   "execution_count": null,
   "id": "5e4b17ff",
   "metadata": {},
   "outputs": [],
   "source": [
    "print(\"Accuracy: {:.1f}%, \".format(scores.mean()*100))"
   ]
  },
  {
   "cell_type": "code",
   "execution_count": null,
   "id": "d10b83c3",
   "metadata": {},
   "outputs": [],
   "source": [
    "# We will train the classifier on all left visual vs auditory trials on MEG\n",
    "\n",
    "time_decode = SlidingEstimator(\n",
    "    clf, n_jobs=4, verbose=True)\n",
    "# here we use cv=3 just for speed\n",
    "scores = cross_val_multiscore(time_decode, X, y, cv=12, n_jobs=4)\n",
    "print(scores)\n",
    "# Mean scores across cross-validation splits\n",
    "scores = np.mean(scores, axis=0)\n",
    "\n",
    "# Plot\n",
    "fig, ax = plt.subplots()\n",
    "ax.plot(epochs_dec.times, scores, label='score')\n",
    "ax.axhline(.5, color='k', linestyle='--', label='chance')\n",
    "ax.set_xlabel('Times')\n",
    "ax.set_ylabel('AUC')  # Area Under the Curve\n",
    "ax.legend()\n",
    "ax.axvline(.0, color='k', linestyle='-')\n",
    "ax.set_title('Sensor space decoding')"
   ]
  },
  {
   "cell_type": "code",
   "execution_count": null,
   "id": "8be7833c",
   "metadata": {},
   "outputs": [],
   "source": [
    "# define the Temporal generalization object\n",
    "time_gen = GeneralizingEstimator(clf, n_jobs=4, scoring='roc_auc',\n",
    "                                 verbose=True)\n",
    "\n",
    "# again, cv=3 just for speed\n",
    "scores = cross_val_multiscore(time_gen, X, y, cv=12, n_jobs=4)\n",
    "\n",
    "# Mean scores across cross-validation splits\n",
    "scores = np.mean(scores, axis=0)\n",
    "\n",
    "# Plot the diagonal (it's exactly the same as the time-by-time decoding above)\n",
    "fig, ax = plt.subplots()\n",
    "ax.plot(epochs_dec.times, np.diag(scores), label='score')\n",
    "ax.axhline(.5, color='k', linestyle='--', label='chance')\n",
    "ax.set_xlabel('Times')\n",
    "ax.set_ylabel('AUC')\n",
    "ax.legend()\n",
    "ax.axvline(.0, color='k', linestyle='-')\n",
    "ax.set_title('Decoding EEG sensors over time')"
   ]
  },
  {
   "cell_type": "code",
   "execution_count": null,
   "id": "cf67827c",
   "metadata": {},
   "outputs": [],
   "source": [
    "print(\"Accuracy: {:.1f}%, \".format(scores.mean()*100))"
   ]
  },
  {
   "cell_type": "code",
   "execution_count": null,
   "id": "bb950875",
   "metadata": {},
   "outputs": [],
   "source": []
  }
 ],
 "metadata": {
  "kernelspec": {
   "display_name": "Python 3",
   "language": "python",
   "name": "python3"
  },
  "language_info": {
   "codemirror_mode": {
    "name": "ipython",
    "version": 3
   },
   "file_extension": ".py",
   "mimetype": "text/x-python",
   "name": "python",
   "nbconvert_exporter": "python",
   "pygments_lexer": "ipython3",
   "version": "3.9.1"
  }
 },
 "nbformat": 4,
 "nbformat_minor": 5
}
