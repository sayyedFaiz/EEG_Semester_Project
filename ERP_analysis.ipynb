{
 "cells": [
  {
   "cell_type": "code",
   "execution_count": 1,
   "id": "c86747d7",
   "metadata": {},
   "outputs": [],
   "source": [
    "import scipy.stats as stats"
   ]
  },
  {
   "cell_type": "code",
   "execution_count": 2,
   "id": "1caba1d8",
   "metadata": {},
   "outputs": [],
   "source": [
    "def two_sample_t_test(target_data, distractor_data):\n",
    "    # Perform two-sample t-test\n",
    "    stat, p_val = stats.ttest_ind(target_data, distractor_data)\n",
    "    \n",
    "    print(\"T-statistic:\", stat)\n",
    "    print(\"P-value:\", p_val)\n",
    "    \n",
    "    return stat, p_val\n"
   ]
  },
  {
   "cell_type": "code",
   "execution_count": 3,
   "id": "31c6b3e0",
   "metadata": {},
   "outputs": [],
   "source": [
    "\n",
    "target_data = [1.4872994819065193e-06, 2.067671570949438e-06,1.1295079106332376e-06]\n",
    "distractor_data = [3.030323392336736e-06, 2.09947295346902e-06, 5.755585944137237e-07]"
   ]
  },
  {
   "cell_type": "code",
   "execution_count": 4,
   "id": "9835e749",
   "metadata": {},
   "outputs": [
    {
     "name": "stdout",
     "output_type": "stream",
     "text": [
      "T-statistic: -0.44428628247123914\n",
      "P-value: 0.6798137184118953\n"
     ]
    },
    {
     "data": {
      "text/plain": [
       "(-0.44428628247123914, 0.6798137184118953)"
      ]
     },
     "execution_count": 4,
     "metadata": {},
     "output_type": "execute_result"
    }
   ],
   "source": [
    "two_sample_t_test(target_data, distractor_data)\n"
   ]
  },
  {
   "cell_type": "code",
   "execution_count": null,
   "id": "44aa5e95",
   "metadata": {},
   "outputs": [],
   "source": []
  }
 ],
 "metadata": {
  "kernelspec": {
   "display_name": "Python 3",
   "language": "python",
   "name": "python3"
  },
  "language_info": {
   "codemirror_mode": {
    "name": "ipython",
    "version": 3
   },
   "file_extension": ".py",
   "mimetype": "text/x-python",
   "name": "python",
   "nbconvert_exporter": "python",
   "pygments_lexer": "ipython3",
   "version": "3.9.1"
  }
 },
 "nbformat": 4,
 "nbformat_minor": 5
}
